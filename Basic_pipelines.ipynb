{
  "nbformat": 4,
  "nbformat_minor": 0,
  "metadata": {
    "colab": {
      "provenance": [],
      "authorship_tag": "ABX9TyNHitMYO6hzf+jjxbmPeI6j",
      "include_colab_link": true
    },
    "kernelspec": {
      "name": "python3",
      "display_name": "Python 3"
    },
    "language_info": {
      "name": "python"
    }
  },
  "cells": [
    {
      "cell_type": "markdown",
      "metadata": {
        "id": "view-in-github",
        "colab_type": "text"
      },
      "source": [
        "<a href=\"https://colab.research.google.com/github/armandoordonez/eda_couse/blob/main/Basic_pipelines.ipynb\" target=\"_parent\"><img src=\"https://colab.research.google.com/assets/colab-badge.svg\" alt=\"Open In Colab\"/></a>"
      ]
    },
    {
      "cell_type": "code",
      "execution_count": 5,
      "metadata": {
        "id": "TWVEwdTxOHLW"
      },
      "outputs": [],
      "source": [
        "# Pipeline\n",
        "from sklearn.pipeline import Pipeline\n",
        "\n",
        "# Importamos un clasificador: Support Vector Classifier\n",
        "from sklearn.svm import SVC\n",
        "\n",
        "# Scaler estandar\n",
        "from sklearn.preprocessing import StandardScaler\n",
        "\n",
        "# Splitter\n",
        "from sklearn.model_selection import train_test_split"
      ]
    },
    {
      "cell_type": "code",
      "source": [
        "# Genera un problema de clasificación randmom de n-classes.\n",
        "\n",
        "from sklearn.datasets import make_classification\n",
        "\n",
        "X, y = make_classification(random_state=0)"
      ],
      "metadata": {
        "id": "klZzdBwZ6jeR"
      },
      "execution_count": 6,
      "outputs": []
    },
    {
      "cell_type": "code",
      "source": [
        "X"
      ],
      "metadata": {
        "colab": {
          "base_uri": "https://localhost:8080/"
        },
        "id": "BBuQNcnzOg_T",
        "outputId": "c97f9d06-c101-4f9b-f6f4-d4a3389dd298"
      },
      "execution_count": 7,
      "outputs": [
        {
          "output_type": "execute_result",
          "data": {
            "text/plain": [
              "array([[-0.03926799,  0.13191176, -0.21120598, ...,  1.97698901,\n",
              "         1.02122474, -0.46931074],\n",
              "       [ 0.77416061,  0.10490717, -0.33281176, ...,  1.2678044 ,\n",
              "         0.62251914, -1.49026539],\n",
              "       [-0.0148577 ,  0.67057045, -0.21416666, ..., -0.10486202,\n",
              "        -0.10169727, -0.45130304],\n",
              "       ...,\n",
              "       [ 0.29673317, -0.49610233, -0.86404499, ..., -1.10453952,\n",
              "         2.01406015,  0.69042902],\n",
              "       [ 0.08617684,  0.9836362 ,  0.17124355, ...,  2.11564734,\n",
              "         0.11273794,  1.20985013],\n",
              "       [-1.58249448, -1.42279491, -0.56430103, ...,  1.26661394,\n",
              "        -1.31771734,  1.61805427]])"
            ]
          },
          "metadata": {},
          "execution_count": 7
        }
      ]
    },
    {
      "cell_type": "code",
      "source": [
        "# Dividimos en test y train\n",
        "X_train, X_test, y_train, y_test = train_test_split(X, y, random_state=0)\n",
        "\n",
        "# Crea el pipeline\n",
        "pipe = Pipeline([\n",
        "    ('scaler', StandardScaler()),\n",
        "    ('svc', SVC())\n",
        "    ])\n",
        "\n",
        "# El pipeline puede usarse como un estimador\n",
        "# y evita data leaking del test set en el train set\n",
        "\n",
        "# Se aplican los pasos en el dataset de entrenamiento\n",
        "pipe.fit(X_train, y_train)\n",
        "\n",
        "# se aplican los pasos en el dataset de prueba\n",
        "pipe.score(X_test, y_test)"
      ],
      "metadata": {
        "colab": {
          "base_uri": "https://localhost:8080/"
        },
        "id": "_jqPgUMXOp2C",
        "outputId": "2c4fbe78-493f-486e-b971-bd23607fac01"
      },
      "execution_count": 8,
      "outputs": [
        {
          "output_type": "execute_result",
          "data": {
            "text/plain": [
              "0.88"
            ]
          },
          "metadata": {},
          "execution_count": 8
        }
      ]
    },
    {
      "cell_type": "code",
      "source": [],
      "metadata": {
        "id": "tp_5cACCPEWj"
      },
      "execution_count": 8,
      "outputs": []
    }
  ]
}