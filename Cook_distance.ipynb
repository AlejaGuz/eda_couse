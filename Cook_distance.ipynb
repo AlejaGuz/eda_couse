{
  "nbformat": 4,
  "nbformat_minor": 0,
  "metadata": {
    "colab": {
      "provenance": [],
      "authorship_tag": "ABX9TyN1TKB/llfHrRzzgCZGjMer",
      "include_colab_link": true
    },
    "kernelspec": {
      "name": "python3",
      "display_name": "Python 3"
    },
    "language_info": {
      "name": "python"
    }
  },
  "cells": [
    {
      "cell_type": "markdown",
      "metadata": {
        "id": "view-in-github",
        "colab_type": "text"
      },
      "source": [
        "<a href=\"https://colab.research.google.com/github/armandoordonez/eda_couse/blob/main/Cook_distance.ipynb\" target=\"_parent\"><img src=\"https://colab.research.google.com/assets/colab-badge.svg\" alt=\"Open In Colab\"/></a>"
      ]
    },
    {
      "cell_type": "code",
      "execution_count": 6,
      "metadata": {
        "id": "pE2YlveoP0g_"
      },
      "outputs": [],
      "source": [
        "import pandas as pd\n",
        "import numpy as np\n",
        "\n",
        "# Librerias para graficas\n",
        "from matplotlib import pyplot as plt\n",
        "import seaborn as sns"
      ]
    },
    {
      "cell_type": "code",
      "source": [
        "# Creamos dataframes con y sin outliers\n",
        "data1 = {'orden': [1, 2, 2, 3, 4, 5, 7, 3, 2, 12, 11, 15, 14, 17, 22], 'edad': [22, 23, 24, 23, 19, 34, 35, 36, 36, 34, 32, 38, 41, 42, 44]}\n",
        "\n",
        "wo_outliers = pd.DataFrame(data1)\n",
        "print(\"Sin outliers\", wo_outliers)\n",
        "\n",
        "data2 = {'orden': [1, 2, 2, 3, 4, 5, 7, 3, 2, 12, 11, 15, 14, 17, 22], 'edad': [190, 23, 24, 23, 19, 34, 35, 36, 36, 34, 32, 38, 41,42, 180]}\n",
        "w_outliers = pd.DataFrame(data2)\n",
        "\n",
        "print(\"Con outliers\", w_outliers)\n",
        "\n",
        "type(w_outliers)"
      ],
      "metadata": {
        "colab": {
          "base_uri": "https://localhost:8080/"
        },
        "id": "GA_TiPshP3Kk",
        "outputId": "2a78e18b-b21e-49e1-d3b7-79846ed6e270"
      },
      "execution_count": 7,
      "outputs": [
        {
          "output_type": "stream",
          "name": "stdout",
          "text": [
            "Sin outliers     orden  edad\n",
            "0       1    22\n",
            "1       2    23\n",
            "2       2    24\n",
            "3       3    23\n",
            "4       4    19\n",
            "5       5    34\n",
            "6       7    35\n",
            "7       3    36\n",
            "8       2    36\n",
            "9      12    34\n",
            "10     11    32\n",
            "11     15    38\n",
            "12     14    41\n",
            "13     17    42\n",
            "14     22    44\n",
            "Con outliers     orden  edad\n",
            "0       1   190\n",
            "1       2    23\n",
            "2       2    24\n",
            "3       3    23\n",
            "4       4    19\n",
            "5       5    34\n",
            "6       7    35\n",
            "7       3    36\n",
            "8       2    36\n",
            "9      12    34\n",
            "10     11    32\n",
            "11     15    38\n",
            "12     14    41\n",
            "13     17    42\n",
            "14     22   180\n"
          ]
        },
        {
          "output_type": "execute_result",
          "data": {
            "text/plain": [
              "pandas.core.frame.DataFrame"
            ]
          },
          "metadata": {},
          "execution_count": 7
        }
      ]
    },
    {
      "cell_type": "code",
      "source": [
        "# Parametros de las figuras\n",
        "plt.rcParams[\"figure.figsize\"] = [7.00, 3.50]\n",
        "plt.rcParams[\"figure.autolayout\"] = True\n",
        "\n",
        "# definimos que hay 2 graficos\n",
        "f, axes = plt.subplots(1, 2)\n",
        "\n",
        "# en la primera sección\n",
        "axes[0].title.set_text('Con outliers')\n",
        "\n",
        "# en la segunda sección:\n",
        "axes[1].title.set_text('Sin outliers')\n",
        "\n",
        "# agregamos al gráfico x y de w_outliers en axes[0]\n",
        "sns.regplot(x=w_outliers[\"orden\"], y=w_outliers['edad'], ax=axes[0],label=\"with outliers\")\n",
        "\n",
        "# agregamos al gráfico x y de wo_outliers en axes[1]\n",
        "sns.regplot(x=wo_outliers[\"orden\"], y=wo_outliers['edad'], ax=axes[1],label=\"without outliers\",)\n",
        "\n",
        "# mostramos la figura\n",
        "plt.show()\n"
      ],
      "metadata": {
        "colab": {
          "base_uri": "https://localhost:8080/",
          "height": 261
        },
        "id": "9oW9EMR0SIm5",
        "outputId": "68be5d72-9702-45b5-83ee-1c4be2844ff3"
      },
      "execution_count": 9,
      "outputs": [
        {
          "output_type": "display_data",
          "data": {
            "text/plain": [
              "<Figure size 504x252 with 2 Axes>"
            ],
            "image/png": "[encoded data removed]"
          },
          "metadata": {
            "needs_background": "light"
          }
        }
      ]
    },
    {
      "cell_type": "markdown",
      "source": [
        "Se puede observar la regresión lineal y como se ve afectada con los outliers, lo cual afecta la calidad de la predicción"
      ],
      "metadata": {
        "id": "mTVtD33AGTv4"
      }
    },
    {
      "cell_type": "code",
      "source": [
        "#fit the linear regression model to the dataset with outliers\n",
        "\n",
        "import statsmodels.api as sm\n",
        "\n",
        "#define response variable\n",
        "y = w_outliers['edad']\n",
        "\n",
        "#define explanatory variable\n",
        "x = w_outliers['orden']\n",
        "\n",
        "#add constant to predictor variables\n",
        "x = sm.add_constant(x)\n",
        "\n",
        "#fit linear regression model\n",
        "model = sm.OLS(y,x).fit() \n",
        "\n",
        "np.set_printoptions(suppress=True)\n",
        "\n",
        "\n",
        "#obtain Cook's distance for each observation\n",
        "# https://www.mathworks.com/help/stats/cooks-distance.html\n",
        "influence = model.get_influence()\n",
        "cooks = influence.cooks_distance\n",
        "print(cooks)\n"
      ],
      "metadata": {
        "colab": {
          "base_uri": "https://localhost:8080/"
        },
        "id": "T0hSb2SKP55a",
        "outputId": "8884f5a0-d1a4-4549-85ab-2c24024bced6"
      },
      "execution_count": 10,
      "outputs": [
        {
          "output_type": "stream",
          "name": "stdout",
          "text": [
            "(array([0.78167086, 0.00778515, 0.00688738, 0.00812162, 0.01188796,\n",
            "       0.00239595, 0.00313348, 0.0007978 , 0.00040285, 0.01371104,\n",
            "       0.01165023, 0.02876499, 0.01597468, 0.04477099, 1.63100305]), array([0.47800785, 0.99224969, 0.9931399 , 0.9919163 , 0.98819315,\n",
            "       0.99760735, 0.99687218, 0.99920257, 0.99959725, 0.98639677,\n",
            "       0.98842768, 0.97170645, 0.98417152, 0.95636321, 0.23334581]))\n"
          ]
        }
      ]
    },
    {
      "cell_type": "code",
      "source": [
        "# Graficamos la distancia Cook y una linea ubicada en 4/n para ver cuales datos sobrepasan este umbral\n",
        "\n",
        "def abline(slope, intercept):\n",
        "    axes = plt.gca()\n",
        "    x_vals = np.array(axes.get_xlim())\n",
        "    y_vals = intercept + slope * x_vals\n",
        "    plt.plot(x_vals, y_vals, '--')\n",
        "\n",
        "\n",
        "n = len(w_outliers.index)\n",
        "\n",
        "plt.plot(w_outliers['orden'],cooks[0],'o', color='black')\n",
        "abline(0,4/n)"
      ],
      "metadata": {
        "id": "w1HgU2pCQHkc",
        "colab": {
          "base_uri": "https://localhost:8080/",
          "height": 265
        },
        "outputId": "eca8740d-aa9b-4bad-96e8-ae34d760e99b"
      },
      "execution_count": 4,
      "outputs": [
        {
          "output_type": "display_data",
          "data": {
            "text/plain": [
              "<Figure size 432x288 with 1 Axes>"
            ],
            "image/png": "[encoded data removed]"
          },
          "metadata": {
            "needs_background": "light"
          }
        }
      ]
    },
    {
      "cell_type": "markdown",
      "source": [
        "# Alternativa de remover los outliers"
      ],
      "metadata": {
        "id": "-5EZ3worHPCr"
      }
    },
    {
      "cell_type": "code",
      "source": [
        "# Selecionamos los datos menores a 4/n \n",
        "\n",
        "removed_outliers= w_outliers[cooks[0] < 4/n]\n",
        "\n",
        "# MOstramos los datos\n",
        "print(removed_outliers)\n",
        "print(w_outliers)\n",
        "\n",
        "# graficamos los datos\n",
        "f, axes = plt.subplots(1, 2)\n",
        "axes[0].title.set_text('con outliers')\n",
        "axes[1].title.set_text('removiendo outliers')\n",
        "\n",
        "sns.regplot(x=w_outliers[\"orden\"], y=w_outliers['edad'], ax=axes[0],label=\"with outliers\")\n",
        "sns.regplot(x=removed_outliers[\"orden\"], y=removed_outliers['edad'], ax=axes[1],label=\"removed outliers\",)\n",
        "\n",
        "plt.show()\n"
      ],
      "metadata": {
        "id": "r27pi7HWQW2i",
        "colab": {
          "base_uri": "https://localhost:8080/",
          "height": 782
        },
        "outputId": "ffee8041-bb70-4bab-c0f2-f40dda91f6c5"
      },
      "execution_count": 15,
      "outputs": [
        {
          "output_type": "stream",
          "name": "stdout",
          "text": [
            "    orden  edad\n",
            "1       2    23\n",
            "2       2    24\n",
            "3       3    23\n",
            "4       4    19\n",
            "5       5    34\n",
            "6       7    35\n",
            "7       3    36\n",
            "8       2    36\n",
            "9      12    34\n",
            "10     11    32\n",
            "11     15    38\n",
            "12     14    41\n",
            "13     17    42\n",
            "    orden  edad\n",
            "0       1   190\n",
            "1       2    23\n",
            "2       2    24\n",
            "3       3    23\n",
            "4       4    19\n",
            "5       5    34\n",
            "6       7    35\n",
            "7       3    36\n",
            "8       2    36\n",
            "9      12    34\n",
            "10     11    32\n",
            "11     15    38\n",
            "12     14    41\n",
            "13     17    42\n",
            "14     22   180\n"
          ]
        },
        {
          "output_type": "display_data",
          "data": {
            "text/plain": [
              "<Figure size 504x252 with 2 Axes>"
            ],
            "image/png": "[encoded data removed]"
          },
          "metadata": {
            "needs_background": "light"
          }
        }
      ]
    },
    {
      "cell_type": "code",
      "source": [],
      "metadata": {
        "id": "YVxD-KocQSap"
      },
      "execution_count": null,
      "outputs": []
    },
    {
      "cell_type": "code",
      "source": [],
      "metadata": {
        "id": "23DZVv3_QSeb"
      },
      "execution_count": null,
      "outputs": []
    },
    {
      "cell_type": "code",
      "source": [],
      "metadata": {
        "id": "TlprvgLTQSjc"
      },
      "execution_count": null,
      "outputs": []
    }
  ]
}