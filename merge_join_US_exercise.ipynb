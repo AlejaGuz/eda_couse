{
  "cells": [
    {
      "cell_type": "code",
      "execution_count": 3,
      "metadata": {
        "colab": {
          "base_uri": "https://localhost:8080/",
          "height": 637
        },
        "id": "eO0ATmMfxdON",
        "outputId": "9f31cb8a-654a-4379-862a-edc225dbd8a2"
      },
      "outputs": [],
      "source": [
        "# 'https://raw.githubusercontent.com/jakevdp/data-USstates/master/state-population.csv'\n",
        "# 'https://raw.githubusercontent.com/jakevdp/data-USstates/master/state-areas.csv'\n",
        "# 'https://raw.githubusercontent.com/jakevdp/data-USstates/master/state-abbrevs.csv'\n",
        "\n",
        "# Debemos encontrar el ranking de los estados de USA  por su densidad de población en  2010\n",
        "\n",
        "# 1.  many-to-one merge nombre + población \n",
        "# 2. merge on ``state/region``  de  ``pop``,y ``abbreviation`` de ``abbrevs``.\n",
        "# ``how='outer'`` para tener todos los datos\n"
      ]
    }
  ],
  "metadata": {
    "anaconda-cloud": {},
    "colab": {
      "include_colab_link": true,
      "provenance": []
    },
    "kernelspec": {
      "display_name": "Python 3",
      "language": "python",
      "name": "python3"
    },
    "language_info": {
      "codemirror_mode": {
        "name": "ipython",
        "version": 3
      },
      "file_extension": ".py",
      "mimetype": "text/x-python",
      "name": "python",
      "nbconvert_exporter": "python",
      "pygments_lexer": "ipython3",
      "version": "3.11.5"
    }
  },
  "nbformat": 4,
  "nbformat_minor": 0
}
