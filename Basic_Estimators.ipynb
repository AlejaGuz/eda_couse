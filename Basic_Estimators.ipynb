{
  "nbformat": 4,
  "nbformat_minor": 0,
  "metadata": {
    "colab": {
      "provenance": [],
      "authorship_tag": "ABX9TyMKlBjFPRFhCPZeo8Gc4lhk",
      "include_colab_link": true
    },
    "kernelspec": {
      "name": "python3",
      "display_name": "Python 3"
    },
    "language_info": {
      "name": "python"
    }
  },
  "cells": [
    {
      "cell_type": "markdown",
      "metadata": {
        "id": "view-in-github",
        "colab_type": "text"
      },
      "source": [
        "<a href=\"https://colab.research.google.com/github/armandoordonez/eda_couse/blob/main/Basic_Estimators.ipynb\" target=\"_parent\"><img src=\"https://colab.research.google.com/assets/colab-badge.svg\" alt=\"Open In Colab\"/></a>"
      ]
    },
    {
      "cell_type": "code",
      "source": [
        "# Carga de librerías\n",
        "from sklearn.base import TransformerMixin\n",
        "from sklearn.base import BaseEstimator\n",
        "from sklearn.datasets import load_iris\n",
        "from sklearn.linear_model import LogisticRegression\n",
        "from sklearn.pipeline import make_pipeline\n",
        "\n",
        "# Creación clase transformadora\n",
        "\n",
        "class MyOwnTransformer(BaseEstimator, TransformerMixin):\n",
        "    def fit(self, X, y=None):\n",
        "        return self\n",
        "    def transform(self, X):\n",
        "        return X\n",
        "\n",
        "myot = MyOwnTransformer()"
      ],
      "metadata": {
        "id": "r98qveUAHydl"
      },
      "execution_count": 10,
      "outputs": []
    },
    {
      "cell_type": "code",
      "source": [
        "# Carga del dataset\n",
        "\n",
        "X, y = load_iris(return_X_y=True)\n",
        "\n",
        "# Aplicamos el transformador\n",
        "myot.transform(X)\n"
      ],
      "metadata": {
        "id": "h9tUDAafI4JM",
        "outputId": "46eb5d2d-562b-4ef7-a103-395ba44fa30b",
        "colab": {
          "base_uri": "https://localhost:8080/"
        }
      },
      "execution_count": 14,
      "outputs": [
        {
          "output_type": "execute_result",
          "data": {
            "text/plain": [
              "array([[5.1, 3.5, 1.4, 0.2],\n",
              "       [4.9, 3. , 1.4, 0.2],\n",
              "       [4.7, 3.2, 1.3, 0.2],\n",
              "       [4.6, 3.1, 1.5, 0.2],\n",
              "       [5. , 3.6, 1.4, 0.2],\n",
              "       [5.4, 3.9, 1.7, 0.4],\n",
              "       [4.6, 3.4, 1.4, 0.3],\n",
              "       [5. , 3.4, 1.5, 0.2],\n",
              "       [4.4, 2.9, 1.4, 0.2],\n",
              "       [4.9, 3.1, 1.5, 0.1],\n",
              "       [5.4, 3.7, 1.5, 0.2],\n",
              "       [4.8, 3.4, 1.6, 0.2],\n",
              "       [4.8, 3. , 1.4, 0.1],\n",
              "       [4.3, 3. , 1.1, 0.1],\n",
              "       [5.8, 4. , 1.2, 0.2],\n",
              "       [5.7, 4.4, 1.5, 0.4],\n",
              "       [5.4, 3.9, 1.3, 0.4],\n",
              "       [5.1, 3.5, 1.4, 0.3],\n",
              "       [5.7, 3.8, 1.7, 0.3],\n",
              "       [5.1, 3.8, 1.5, 0.3],\n",
              "       [5.4, 3.4, 1.7, 0.2],\n",
              "       [5.1, 3.7, 1.5, 0.4],\n",
              "       [4.6, 3.6, 1. , 0.2],\n",
              "       [5.1, 3.3, 1.7, 0.5],\n",
              "       [4.8, 3.4, 1.9, 0.2],\n",
              "       [5. , 3. , 1.6, 0.2],\n",
              "       [5. , 3.4, 1.6, 0.4],\n",
              "       [5.2, 3.5, 1.5, 0.2],\n",
              "       [5.2, 3.4, 1.4, 0.2],\n",
              "       [4.7, 3.2, 1.6, 0.2],\n",
              "       [4.8, 3.1, 1.6, 0.2],\n",
              "       [5.4, 3.4, 1.5, 0.4],\n",
              "       [5.2, 4.1, 1.5, 0.1],\n",
              "       [5.5, 4.2, 1.4, 0.2],\n",
              "       [4.9, 3.1, 1.5, 0.2],\n",
              "       [5. , 3.2, 1.2, 0.2],\n",
              "       [5.5, 3.5, 1.3, 0.2],\n",
              "       [4.9, 3.6, 1.4, 0.1],\n",
              "       [4.4, 3. , 1.3, 0.2],\n",
              "       [5.1, 3.4, 1.5, 0.2],\n",
              "       [5. , 3.5, 1.3, 0.3],\n",
              "       [4.5, 2.3, 1.3, 0.3],\n",
              "       [4.4, 3.2, 1.3, 0.2],\n",
              "       [5. , 3.5, 1.6, 0.6],\n",
              "       [5.1, 3.8, 1.9, 0.4],\n",
              "       [4.8, 3. , 1.4, 0.3],\n",
              "       [5.1, 3.8, 1.6, 0.2],\n",
              "       [4.6, 3.2, 1.4, 0.2],\n",
              "       [5.3, 3.7, 1.5, 0.2],\n",
              "       [5. , 3.3, 1.4, 0.2],\n",
              "       [7. , 3.2, 4.7, 1.4],\n",
              "       [6.4, 3.2, 4.5, 1.5],\n",
              "       [6.9, 3.1, 4.9, 1.5],\n",
              "       [5.5, 2.3, 4. , 1.3],\n",
              "       [6.5, 2.8, 4.6, 1.5],\n",
              "       [5.7, 2.8, 4.5, 1.3],\n",
              "       [6.3, 3.3, 4.7, 1.6],\n",
              "       [4.9, 2.4, 3.3, 1. ],\n",
              "       [6.6, 2.9, 4.6, 1.3],\n",
              "       [5.2, 2.7, 3.9, 1.4],\n",
              "       [5. , 2. , 3.5, 1. ],\n",
              "       [5.9, 3. , 4.2, 1.5],\n",
              "       [6. , 2.2, 4. , 1. ],\n",
              "       [6.1, 2.9, 4.7, 1.4],\n",
              "       [5.6, 2.9, 3.6, 1.3],\n",
              "       [6.7, 3.1, 4.4, 1.4],\n",
              "       [5.6, 3. , 4.5, 1.5],\n",
              "       [5.8, 2.7, 4.1, 1. ],\n",
              "       [6.2, 2.2, 4.5, 1.5],\n",
              "       [5.6, 2.5, 3.9, 1.1],\n",
              "       [5.9, 3.2, 4.8, 1.8],\n",
              "       [6.1, 2.8, 4. , 1.3],\n",
              "       [6.3, 2.5, 4.9, 1.5],\n",
              "       [6.1, 2.8, 4.7, 1.2],\n",
              "       [6.4, 2.9, 4.3, 1.3],\n",
              "       [6.6, 3. , 4.4, 1.4],\n",
              "       [6.8, 2.8, 4.8, 1.4],\n",
              "       [6.7, 3. , 5. , 1.7],\n",
              "       [6. , 2.9, 4.5, 1.5],\n",
              "       [5.7, 2.6, 3.5, 1. ],\n",
              "       [5.5, 2.4, 3.8, 1.1],\n",
              "       [5.5, 2.4, 3.7, 1. ],\n",
              "       [5.8, 2.7, 3.9, 1.2],\n",
              "       [6. , 2.7, 5.1, 1.6],\n",
              "       [5.4, 3. , 4.5, 1.5],\n",
              "       [6. , 3.4, 4.5, 1.6],\n",
              "       [6.7, 3.1, 4.7, 1.5],\n",
              "       [6.3, 2.3, 4.4, 1.3],\n",
              "       [5.6, 3. , 4.1, 1.3],\n",
              "       [5.5, 2.5, 4. , 1.3],\n",
              "       [5.5, 2.6, 4.4, 1.2],\n",
              "       [6.1, 3. , 4.6, 1.4],\n",
              "       [5.8, 2.6, 4. , 1.2],\n",
              "       [5. , 2.3, 3.3, 1. ],\n",
              "       [5.6, 2.7, 4.2, 1.3],\n",
              "       [5.7, 3. , 4.2, 1.2],\n",
              "       [5.7, 2.9, 4.2, 1.3],\n",
              "       [6.2, 2.9, 4.3, 1.3],\n",
              "       [5.1, 2.5, 3. , 1.1],\n",
              "       [5.7, 2.8, 4.1, 1.3],\n",
              "       [6.3, 3.3, 6. , 2.5],\n",
              "       [5.8, 2.7, 5.1, 1.9],\n",
              "       [7.1, 3. , 5.9, 2.1],\n",
              "       [6.3, 2.9, 5.6, 1.8],\n",
              "       [6.5, 3. , 5.8, 2.2],\n",
              "       [7.6, 3. , 6.6, 2.1],\n",
              "       [4.9, 2.5, 4.5, 1.7],\n",
              "       [7.3, 2.9, 6.3, 1.8],\n",
              "       [6.7, 2.5, 5.8, 1.8],\n",
              "       [7.2, 3.6, 6.1, 2.5],\n",
              "       [6.5, 3.2, 5.1, 2. ],\n",
              "       [6.4, 2.7, 5.3, 1.9],\n",
              "       [6.8, 3. , 5.5, 2.1],\n",
              "       [5.7, 2.5, 5. , 2. ],\n",
              "       [5.8, 2.8, 5.1, 2.4],\n",
              "       [6.4, 3.2, 5.3, 2.3],\n",
              "       [6.5, 3. , 5.5, 1.8],\n",
              "       [7.7, 3.8, 6.7, 2.2],\n",
              "       [7.7, 2.6, 6.9, 2.3],\n",
              "       [6. , 2.2, 5. , 1.5],\n",
              "       [6.9, 3.2, 5.7, 2.3],\n",
              "       [5.6, 2.8, 4.9, 2. ],\n",
              "       [7.7, 2.8, 6.7, 2. ],\n",
              "       [6.3, 2.7, 4.9, 1.8],\n",
              "       [6.7, 3.3, 5.7, 2.1],\n",
              "       [7.2, 3.2, 6. , 1.8],\n",
              "       [6.2, 2.8, 4.8, 1.8],\n",
              "       [6.1, 3. , 4.9, 1.8],\n",
              "       [6.4, 2.8, 5.6, 2.1],\n",
              "       [7.2, 3. , 5.8, 1.6],\n",
              "       [7.4, 2.8, 6.1, 1.9],\n",
              "       [7.9, 3.8, 6.4, 2. ],\n",
              "       [6.4, 2.8, 5.6, 2.2],\n",
              "       [6.3, 2.8, 5.1, 1.5],\n",
              "       [6.1, 2.6, 5.6, 1.4],\n",
              "       [7.7, 3. , 6.1, 2.3],\n",
              "       [6.3, 3.4, 5.6, 2.4],\n",
              "       [6.4, 3.1, 5.5, 1.8],\n",
              "       [6. , 3. , 4.8, 1.8],\n",
              "       [6.9, 3.1, 5.4, 2.1],\n",
              "       [6.7, 3.1, 5.6, 2.4],\n",
              "       [6.9, 3.1, 5.1, 2.3],\n",
              "       [5.8, 2.7, 5.1, 1.9],\n",
              "       [6.8, 3.2, 5.9, 2.3],\n",
              "       [6.7, 3.3, 5.7, 2.5],\n",
              "       [6.7, 3. , 5.2, 2.3],\n",
              "       [6.3, 2.5, 5. , 1.9],\n",
              "       [6.5, 3. , 5.2, 2. ],\n",
              "       [6.2, 3.4, 5.4, 2.3],\n",
              "       [5.9, 3. , 5.1, 1.8]])"
            ]
          },
          "metadata": {},
          "execution_count": 14
        }
      ]
    },
    {
      "cell_type": "code",
      "source": [
        "# Crear pipeline\n",
        "pipe = make_pipeline(MyOwnTransformer(), LogisticRegression(random_state=10, solver='lbfgs',max_iter=1000))\n",
        "pipe.fit(X,y)"
      ],
      "metadata": {
        "colab": {
          "base_uri": "https://localhost:8080/",
          "height": 127
        },
        "id": "L6lQk4xmHy8K",
        "outputId": "a24a0b80-c680-45cb-c763-d352d104f803"
      },
      "execution_count": 21,
      "outputs": [
        {
          "output_type": "execute_result",
          "data": {
            "text/plain": [
              "Pipeline(steps=[('myowntransformer', MyOwnTransformer()),\n",
              "                ('logisticregression',\n",
              "                 LogisticRegression(max_iter=1000, random_state=10))])"
            ],
            "text/html": [
              "<style>#sk-container-id-1 {color: black;background-color: white;}#sk-container-id-1 pre{padding: 0;}#sk-container-id-1 div.sk-toggleable {background-color: white;}#sk-container-id-1 label.sk-toggleable__label {cursor: pointer;display: block;width: 100%;margin-bottom: 0;padding: 0.3em;box-sizing: border-box;text-align: center;}#sk-container-id-1 label.sk-toggleable__label-arrow:before {content: \"▸\";float: left;margin-right: 0.25em;color: #696969;}#sk-container-id-1 label.sk-toggleable__label-arrow:hover:before {color: black;}#sk-container-id-1 div.sk-estimator:hover label.sk-toggleable__label-arrow:before {color: black;}#sk-container-id-1 div.sk-toggleable__content {max-height: 0;max-width: 0;overflow: hidden;text-align: left;background-color: #f0f8ff;}#sk-container-id-1 div.sk-toggleable__content pre {margin: 0.2em;color: black;border-radius: 0.25em;background-color: #f0f8ff;}#sk-container-id-1 input.sk-toggleable__control:checked~div.sk-toggleable__content {max-height: 200px;max-width: 100%;overflow: auto;}#sk-container-id-1 input.sk-toggleable__control:checked~label.sk-toggleable__label-arrow:before {content: \"▾\";}#sk-container-id-1 div.sk-estimator input.sk-toggleable__control:checked~label.sk-toggleable__label {background-color: #d4ebff;}#sk-container-id-1 div.sk-label input.sk-toggleable__control:checked~label.sk-toggleable__label {background-color: #d4ebff;}#sk-container-id-1 input.sk-hidden--visually {border: 0;clip: rect(1px 1px 1px 1px);clip: rect(1px, 1px, 1px, 1px);height: 1px;margin: -1px;overflow: hidden;padding: 0;position: absolute;width: 1px;}#sk-container-id-1 div.sk-estimator {font-family: monospace;background-color: #f0f8ff;border: 1px dotted black;border-radius: 0.25em;box-sizing: border-box;margin-bottom: 0.5em;}#sk-container-id-1 div.sk-estimator:hover {background-color: #d4ebff;}#sk-container-id-1 div.sk-parallel-item::after {content: \"\";width: 100%;border-bottom: 1px solid gray;flex-grow: 1;}#sk-container-id-1 div.sk-label:hover label.sk-toggleable__label {background-color: #d4ebff;}#sk-container-id-1 div.sk-serial::before {content: \"\";position: absolute;border-left: 1px solid gray;box-sizing: border-box;top: 0;bottom: 0;left: 50%;z-index: 0;}#sk-container-id-1 div.sk-serial {display: flex;flex-direction: column;align-items: center;background-color: white;padding-right: 0.2em;padding-left: 0.2em;position: relative;}#sk-container-id-1 div.sk-item {position: relative;z-index: 1;}#sk-container-id-1 div.sk-parallel {display: flex;align-items: stretch;justify-content: center;background-color: white;position: relative;}#sk-container-id-1 div.sk-item::before, #sk-container-id-1 div.sk-parallel-item::before {content: \"\";position: absolute;border-left: 1px solid gray;box-sizing: border-box;top: 0;bottom: 0;left: 50%;z-index: -1;}#sk-container-id-1 div.sk-parallel-item {display: flex;flex-direction: column;z-index: 1;position: relative;background-color: white;}#sk-container-id-1 div.sk-parallel-item:first-child::after {align-self: flex-end;width: 50%;}#sk-container-id-1 div.sk-parallel-item:last-child::after {align-self: flex-start;width: 50%;}#sk-container-id-1 div.sk-parallel-item:only-child::after {width: 0;}#sk-container-id-1 div.sk-dashed-wrapped {border: 1px dashed gray;margin: 0 0.4em 0.5em 0.4em;box-sizing: border-box;padding-bottom: 0.4em;background-color: white;}#sk-container-id-1 div.sk-label label {font-family: monospace;font-weight: bold;display: inline-block;line-height: 1.2em;}#sk-container-id-1 div.sk-label-container {text-align: center;}#sk-container-id-1 div.sk-container {/* jupyter's `normalize.less` sets `[hidden] { display: none; }` but bootstrap.min.css set `[hidden] { display: none !important; }` so we also need the `!important` here to be able to override the default hidden behavior on the sphinx rendered scikit-learn.org. See: https://github.com/scikit-learn/scikit-learn/issues/21755 */display: inline-block !important;position: relative;}#sk-container-id-1 div.sk-text-repr-fallback {display: none;}</style><div id=\"sk-container-id-1\" class=\"sk-top-container\"><div class=\"sk-text-repr-fallback\"><pre>Pipeline(steps=[(&#x27;myowntransformer&#x27;, MyOwnTransformer()),\n",
              "                (&#x27;logisticregression&#x27;,\n",
              "                 LogisticRegression(max_iter=1000, random_state=10))])</pre><b>In a Jupyter environment, please rerun this cell to show the HTML representation or trust the notebook. <br />On GitHub, the HTML representation is unable to render, please try loading this page with nbviewer.org.</b></div><div class=\"sk-container\" hidden><div class=\"sk-item sk-dashed-wrapped\"><div class=\"sk-label-container\"><div class=\"sk-label sk-toggleable\"><input class=\"sk-toggleable__control sk-hidden--visually\" id=\"sk-estimator-id-1\" type=\"checkbox\" ><label for=\"sk-estimator-id-1\" class=\"sk-toggleable__label sk-toggleable__label-arrow\">Pipeline</label><div class=\"sk-toggleable__content\"><pre>Pipeline(steps=[(&#x27;myowntransformer&#x27;, MyOwnTransformer()),\n",
              "                (&#x27;logisticregression&#x27;,\n",
              "                 LogisticRegression(max_iter=1000, random_state=10))])</pre></div></div></div><div class=\"sk-serial\"><div class=\"sk-item\"><div class=\"sk-estimator sk-toggleable\"><input class=\"sk-toggleable__control sk-hidden--visually\" id=\"sk-estimator-id-2\" type=\"checkbox\" ><label for=\"sk-estimator-id-2\" class=\"sk-toggleable__label sk-toggleable__label-arrow\">MyOwnTransformer</label><div class=\"sk-toggleable__content\"><pre>MyOwnTransformer()</pre></div></div></div><div class=\"sk-item\"><div class=\"sk-estimator sk-toggleable\"><input class=\"sk-toggleable__control sk-hidden--visually\" id=\"sk-estimator-id-3\" type=\"checkbox\" ><label for=\"sk-estimator-id-3\" class=\"sk-toggleable__label sk-toggleable__label-arrow\">LogisticRegression</label><div class=\"sk-toggleable__content\"><pre>LogisticRegression(max_iter=1000, random_state=10)</pre></div></div></div></div></div></div></div>"
            ]
          },
          "metadata": {},
          "execution_count": 21
        }
      ]
    },
    {
      "cell_type": "code",
      "source": [
        "pipe.predict(X)"
      ],
      "metadata": {
        "id": "gcfpgqejGz1c",
        "outputId": "311fa103-8e2f-4118-fd10-63fbaee6b0ea",
        "colab": {
          "base_uri": "https://localhost:8080/"
        }
      },
      "execution_count": 22,
      "outputs": [
        {
          "output_type": "execute_result",
          "data": {
            "text/plain": [
              "array([0, 0, 0, 0, 0, 0, 0, 0, 0, 0, 0, 0, 0, 0, 0, 0, 0, 0, 0, 0, 0, 0,\n",
              "       0, 0, 0, 0, 0, 0, 0, 0, 0, 0, 0, 0, 0, 0, 0, 0, 0, 0, 0, 0, 0, 0,\n",
              "       0, 0, 0, 0, 0, 0, 1, 1, 1, 1, 1, 1, 1, 1, 1, 1, 1, 1, 1, 1, 1, 1,\n",
              "       1, 1, 1, 1, 2, 1, 1, 1, 1, 1, 1, 2, 1, 1, 1, 1, 1, 2, 1, 1, 1, 1,\n",
              "       1, 1, 1, 1, 1, 1, 1, 1, 1, 1, 1, 1, 2, 2, 2, 2, 2, 2, 1, 2, 2, 2,\n",
              "       2, 2, 2, 2, 2, 2, 2, 2, 2, 2, 2, 2, 2, 2, 2, 2, 2, 2, 2, 2, 2, 2,\n",
              "       2, 2, 2, 2, 2, 2, 2, 2, 2, 2, 2, 2, 2, 2, 2, 2, 2, 2])"
            ]
          },
          "metadata": {},
          "execution_count": 22
        }
      ]
    },
    {
      "cell_type": "code",
      "source": [
        "from sklearn.base import TransformerMixin\n",
        "from sklearn.base import BaseEstimator\n",
        "from sklearn.base import RegressorMixin\n",
        "from sklearn.datasets import load_iris\n",
        "from sklearn.linear_model import LogisticRegression\n",
        "from sklearn.pipeline import make_pipeline\n",
        "\n",
        "import numpy as np\n",
        "\n",
        "class MyOwnRegressor(BaseEstimator, RegressorMixin):\n",
        "    def fit(self, X, y):\n",
        "        return self\n",
        "    def predict(self, X):\n",
        "        return np.mean(X, axis=1)"
      ],
      "metadata": {
        "id": "lj2S0TvsG2SJ"
      },
      "execution_count": 23,
      "outputs": []
    },
    {
      "cell_type": "code",
      "source": [
        "from sklearn.datasets import load_diabetes\n",
        "\n",
        "\n",
        "X, y = load_diabetes(return_X_y=True)\n",
        "\n",
        "pipe = make_pipeline(MyOwnTransformer(), MyOwnRegressor())\n",
        "pipe.fit(X, y)\n"
      ],
      "metadata": {
        "colab": {
          "base_uri": "https://localhost:8080/",
          "height": 127
        },
        "id": "WL9riKnUKn56",
        "outputId": "1f8fb0c2-0956-4324-b689-9fc02bfd35f0"
      },
      "execution_count": 24,
      "outputs": [
        {
          "output_type": "execute_result",
          "data": {
            "text/plain": [
              "Pipeline(steps=[('myowntransformer', MyOwnTransformer()),\n",
              "                ('myownregressor', MyOwnRegressor())])"
            ],
            "text/html": [
              "<style>#sk-container-id-2 {color: black;background-color: white;}#sk-container-id-2 pre{padding: 0;}#sk-container-id-2 div.sk-toggleable {background-color: white;}#sk-container-id-2 label.sk-toggleable__label {cursor: pointer;display: block;width: 100%;margin-bottom: 0;padding: 0.3em;box-sizing: border-box;text-align: center;}#sk-container-id-2 label.sk-toggleable__label-arrow:before {content: \"▸\";float: left;margin-right: 0.25em;color: #696969;}#sk-container-id-2 label.sk-toggleable__label-arrow:hover:before {color: black;}#sk-container-id-2 div.sk-estimator:hover label.sk-toggleable__label-arrow:before {color: black;}#sk-container-id-2 div.sk-toggleable__content {max-height: 0;max-width: 0;overflow: hidden;text-align: left;background-color: #f0f8ff;}#sk-container-id-2 div.sk-toggleable__content pre {margin: 0.2em;color: black;border-radius: 0.25em;background-color: #f0f8ff;}#sk-container-id-2 input.sk-toggleable__control:checked~div.sk-toggleable__content {max-height: 200px;max-width: 100%;overflow: auto;}#sk-container-id-2 input.sk-toggleable__control:checked~label.sk-toggleable__label-arrow:before {content: \"▾\";}#sk-container-id-2 div.sk-estimator input.sk-toggleable__control:checked~label.sk-toggleable__label {background-color: #d4ebff;}#sk-container-id-2 div.sk-label input.sk-toggleable__control:checked~label.sk-toggleable__label {background-color: #d4ebff;}#sk-container-id-2 input.sk-hidden--visually {border: 0;clip: rect(1px 1px 1px 1px);clip: rect(1px, 1px, 1px, 1px);height: 1px;margin: -1px;overflow: hidden;padding: 0;position: absolute;width: 1px;}#sk-container-id-2 div.sk-estimator {font-family: monospace;background-color: #f0f8ff;border: 1px dotted black;border-radius: 0.25em;box-sizing: border-box;margin-bottom: 0.5em;}#sk-container-id-2 div.sk-estimator:hover {background-color: #d4ebff;}#sk-container-id-2 div.sk-parallel-item::after {content: \"\";width: 100%;border-bottom: 1px solid gray;flex-grow: 1;}#sk-container-id-2 div.sk-label:hover label.sk-toggleable__label {background-color: #d4ebff;}#sk-container-id-2 div.sk-serial::before {content: \"\";position: absolute;border-left: 1px solid gray;box-sizing: border-box;top: 0;bottom: 0;left: 50%;z-index: 0;}#sk-container-id-2 div.sk-serial {display: flex;flex-direction: column;align-items: center;background-color: white;padding-right: 0.2em;padding-left: 0.2em;position: relative;}#sk-container-id-2 div.sk-item {position: relative;z-index: 1;}#sk-container-id-2 div.sk-parallel {display: flex;align-items: stretch;justify-content: center;background-color: white;position: relative;}#sk-container-id-2 div.sk-item::before, #sk-container-id-2 div.sk-parallel-item::before {content: \"\";position: absolute;border-left: 1px solid gray;box-sizing: border-box;top: 0;bottom: 0;left: 50%;z-index: -1;}#sk-container-id-2 div.sk-parallel-item {display: flex;flex-direction: column;z-index: 1;position: relative;background-color: white;}#sk-container-id-2 div.sk-parallel-item:first-child::after {align-self: flex-end;width: 50%;}#sk-container-id-2 div.sk-parallel-item:last-child::after {align-self: flex-start;width: 50%;}#sk-container-id-2 div.sk-parallel-item:only-child::after {width: 0;}#sk-container-id-2 div.sk-dashed-wrapped {border: 1px dashed gray;margin: 0 0.4em 0.5em 0.4em;box-sizing: border-box;padding-bottom: 0.4em;background-color: white;}#sk-container-id-2 div.sk-label label {font-family: monospace;font-weight: bold;display: inline-block;line-height: 1.2em;}#sk-container-id-2 div.sk-label-container {text-align: center;}#sk-container-id-2 div.sk-container {/* jupyter's `normalize.less` sets `[hidden] { display: none; }` but bootstrap.min.css set `[hidden] { display: none !important; }` so we also need the `!important` here to be able to override the default hidden behavior on the sphinx rendered scikit-learn.org. See: https://github.com/scikit-learn/scikit-learn/issues/21755 */display: inline-block !important;position: relative;}#sk-container-id-2 div.sk-text-repr-fallback {display: none;}</style><div id=\"sk-container-id-2\" class=\"sk-top-container\"><div class=\"sk-text-repr-fallback\"><pre>Pipeline(steps=[(&#x27;myowntransformer&#x27;, MyOwnTransformer()),\n",
              "                (&#x27;myownregressor&#x27;, MyOwnRegressor())])</pre><b>In a Jupyter environment, please rerun this cell to show the HTML representation or trust the notebook. <br />On GitHub, the HTML representation is unable to render, please try loading this page with nbviewer.org.</b></div><div class=\"sk-container\" hidden><div class=\"sk-item sk-dashed-wrapped\"><div class=\"sk-label-container\"><div class=\"sk-label sk-toggleable\"><input class=\"sk-toggleable__control sk-hidden--visually\" id=\"sk-estimator-id-4\" type=\"checkbox\" ><label for=\"sk-estimator-id-4\" class=\"sk-toggleable__label sk-toggleable__label-arrow\">Pipeline</label><div class=\"sk-toggleable__content\"><pre>Pipeline(steps=[(&#x27;myowntransformer&#x27;, MyOwnTransformer()),\n",
              "                (&#x27;myownregressor&#x27;, MyOwnRegressor())])</pre></div></div></div><div class=\"sk-serial\"><div class=\"sk-item\"><div class=\"sk-estimator sk-toggleable\"><input class=\"sk-toggleable__control sk-hidden--visually\" id=\"sk-estimator-id-5\" type=\"checkbox\" ><label for=\"sk-estimator-id-5\" class=\"sk-toggleable__label sk-toggleable__label-arrow\">MyOwnTransformer</label><div class=\"sk-toggleable__content\"><pre>MyOwnTransformer()</pre></div></div></div><div class=\"sk-item\"><div class=\"sk-estimator sk-toggleable\"><input class=\"sk-toggleable__control sk-hidden--visually\" id=\"sk-estimator-id-6\" type=\"checkbox\" ><label for=\"sk-estimator-id-6\" class=\"sk-toggleable__label sk-toggleable__label-arrow\">MyOwnRegressor</label><div class=\"sk-toggleable__content\"><pre>MyOwnRegressor()</pre></div></div></div></div></div></div></div>"
            ]
          },
          "metadata": {},
          "execution_count": 24
        }
      ]
    },
    {
      "cell_type": "code",
      "source": [
        "pipe.predict(X)\n"
      ],
      "metadata": {
        "colab": {
          "base_uri": "https://localhost:8080/"
        },
        "id": "1trMtUwnK9Ep",
        "outputId": "66b236d0-b59f-428b-e989-ae1954097901"
      },
      "execution_count": 25,
      "outputs": [
        {
          "output_type": "execute_result",
          "data": {
            "text/plain": [
              "array([ 4.95486093e-03, -2.77554722e-02,  3.69486749e-03, -1.33177387e-02,\n",
              "       -1.07318583e-02, -5.18393379e-02, -2.62837913e-02,  3.86273006e-02,\n",
              "        7.13573612e-03, -1.30129042e-02, -5.98101434e-02, -4.87329767e-03,\n",
              "       -1.48185599e-02,  6.16247009e-03, -8.51720569e-03,  3.19140705e-02,\n",
              "        1.57380392e-02,  2.94364608e-02, -2.53868917e-02, -2.10158462e-02,\n",
              "       -3.18147476e-02, -2.33384528e-02, -2.29717691e-02,  4.55032929e-02,\n",
              "       -2.34701856e-02, -1.18888515e-02, -5.38999041e-02, -1.38638861e-02,\n",
              "       -2.67207753e-02,  1.24185267e-02, -1.50152087e-02, -4.03884100e-02,\n",
              "        2.06406733e-02, -1.73465587e-02, -4.14073501e-02,  1.85321833e-02,\n",
              "        5.01558702e-03, -1.65430865e-02,  5.26187973e-02,  3.02459345e-04,\n",
              "        3.13692709e-02, -5.51627960e-02, -1.94379695e-02, -3.57936221e-03,\n",
              "        1.69677258e-02, -1.35447447e-03, -3.71527250e-02, -5.78073618e-02,\n",
              "        1.65578763e-03,  3.13780528e-03, -1.40629806e-02,  2.96285776e-03,\n",
              "       -3.57201315e-03,  6.30352225e-03, -4.35019068e-03, -2.15457423e-02,\n",
              "       -1.50954908e-02, -5.27255842e-02, -2.41105477e-03,  2.98740975e-02,\n",
              "       -4.14282630e-02, -6.47173626e-03, -1.37170211e-02, -2.32303841e-02,\n",
              "       -1.21494687e-02,  1.35299210e-02, -1.61538251e-05,  3.84874786e-03,\n",
              "       -6.13529586e-03, -3.02637342e-02, -1.29549204e-02,  2.38037066e-02,\n",
              "        3.69627193e-02,  1.45611092e-02,  2.45506354e-02, -1.77709879e-03,\n",
              "       -2.33215040e-02, -4.17378151e-02, -3.54087353e-02, -2.74516072e-02,\n",
              "        2.75521853e-02,  5.62736297e-03, -1.61993916e-02, -3.40471926e-02,\n",
              "       -4.45705710e-02, -7.41719699e-03, -3.74661632e-02,  1.46908870e-02,\n",
              "       -1.46329695e-02, -1.51629114e-02, -2.32403067e-02,  2.07598019e-02,\n",
              "        6.98557366e-03, -3.50621827e-02, -2.68210507e-02, -3.79431690e-02,\n",
              "        2.33458334e-02,  1.38284415e-02, -9.92057342e-03, -5.73235320e-03,\n",
              "        1.34813188e-02,  1.24907002e-02, -5.28136388e-03,  2.32404305e-02,\n",
              "       -1.92503806e-02, -5.92653735e-03, -5.15937705e-02, -4.84768678e-03,\n",
              "        6.81264195e-03,  1.96762087e-02, -1.72309017e-02, -5.57458077e-03,\n",
              "       -1.36759889e-02,  3.07225056e-02,  2.51591420e-02,  2.77190825e-02,\n",
              "        3.25280712e-02,  3.96862648e-02,  1.44438809e-02, -9.04690495e-03,\n",
              "       -2.15330132e-02,  1.17376405e-02,  4.08418616e-02,  6.53522498e-02,\n",
              "       -1.37693586e-02, -1.31031457e-03, -5.14966753e-02,  6.95249367e-03,\n",
              "       -3.08230284e-02,  1.69130798e-02,  2.67019770e-02, -4.59221224e-02,\n",
              "        1.27661250e-02, -3.85388263e-02, -1.46468446e-02, -4.89802519e-03,\n",
              "       -5.21085365e-02,  7.08786361e-03,  2.85233128e-02,  2.81877066e-03,\n",
              "        5.36647129e-03,  2.46770115e-02,  2.89237817e-02, -1.01905692e-02,\n",
              "        2.09709698e-02, -5.50705373e-03,  1.37186446e-02,  7.40487112e-03,\n",
              "        5.64763679e-03, -6.68672690e-03, -3.80284401e-03, -9.45402176e-03,\n",
              "        3.34840271e-02,  8.38341960e-03,  1.85784650e-02,  4.22731827e-02,\n",
              "       -2.26739196e-02,  1.15748571e-02, -2.66277782e-02,  1.09366270e-02,\n",
              "       -3.44856081e-02,  6.33906254e-02, -2.13706517e-02,  2.41750101e-02,\n",
              "        8.21823632e-03, -3.41159549e-02, -4.97740871e-02,  3.43967318e-02,\n",
              "        4.80960440e-02,  1.96505883e-02, -1.05582111e-02, -5.00309309e-02,\n",
              "        4.02122005e-02, -3.59112230e-02, -2.12731591e-02, -1.55994857e-02,\n",
              "        2.23027423e-02,  1.70497687e-02, -4.40208814e-03, -3.94410691e-03,\n",
              "        4.98320822e-03, -5.49752332e-03,  3.49332101e-02,  1.77574819e-02,\n",
              "       -4.39384080e-03, -5.95801346e-03,  1.36776294e-02, -5.70132845e-02,\n",
              "        1.83511155e-02, -1.48737716e-02, -3.73148437e-03, -2.67289115e-02,\n",
              "        3.01537563e-03,  2.34877883e-02, -2.63349257e-02,  2.18525538e-02,\n",
              "       -6.54173605e-03,  2.07556940e-02, -3.45268565e-02,  1.34984211e-02,\n",
              "        9.76289754e-03, -1.00337488e-02,  4.94703522e-02,  3.13226919e-02,\n",
              "        2.28770062e-02, -4.20195069e-03,  1.57971805e-02,  1.06403057e-02,\n",
              "        2.81973238e-02,  1.93457506e-04,  3.46261191e-03, -1.79363848e-03,\n",
              "        1.92485225e-02, -1.67473281e-02, -2.65272631e-02,  3.00177538e-02,\n",
              "        4.46268089e-02,  3.36867097e-02, -1.98988264e-02, -3.95712537e-02,\n",
              "       -2.49330086e-02, -2.41589564e-02, -9.76132154e-03, -4.46987177e-02,\n",
              "       -4.25930524e-02,  1.11032991e-02, -2.79081060e-02,  1.22018479e-02,\n",
              "       -2.31601031e-02, -2.95738366e-03,  5.28702014e-02, -5.32923465e-04,\n",
              "        2.21599257e-02, -1.04281252e-02,  1.85073020e-02,  6.23114630e-03,\n",
              "        2.77066433e-02, -1.69220533e-02,  7.57800345e-03,  2.83971411e-02,\n",
              "        2.73029706e-02,  1.47625782e-02, -4.60584202e-02, -1.16169011e-02,\n",
              "       -1.39080896e-02, -4.40872738e-02,  6.57256042e-03, -3.36040131e-02,\n",
              "        4.64085950e-02,  2.27488561e-02,  1.76153120e-02,  4.67528336e-02,\n",
              "        1.47594689e-03,  3.08394383e-02,  4.97095879e-02, -1.34907295e-02,\n",
              "       -2.15865208e-04, -8.08167454e-03,  1.52742031e-02, -8.53206164e-03,\n",
              "       -1.14472571e-02,  1.80586217e-02,  3.44047696e-02, -3.52594795e-02,\n",
              "       -1.09789845e-02,  1.94656757e-03, -1.35798507e-02,  1.74577209e-02,\n",
              "        4.54083062e-02, -2.95194422e-03,  8.57994110e-03,  2.30605095e-03,\n",
              "       -3.93039014e-02,  4.35488413e-02, -1.29922859e-03,  6.39460682e-03,\n",
              "        3.70590738e-02, -2.84161179e-02,  2.22397777e-03, -4.97337044e-03,\n",
              "        1.60901659e-02, -2.27057920e-02,  2.71267323e-02, -3.46139293e-02,\n",
              "       -1.29084965e-02,  3.48800813e-03, -2.95364675e-02,  3.09419597e-02,\n",
              "        1.73627544e-02,  1.52753054e-02,  2.84966975e-02,  2.20615582e-02,\n",
              "       -3.02484041e-02, -1.41466258e-04, -1.04611800e-02, -2.99898330e-03,\n",
              "       -2.50401830e-02, -3.33301463e-02, -2.92858476e-02, -4.25138592e-03,\n",
              "        5.84271268e-03,  1.76900010e-02,  1.57331170e-02,  3.08860264e-02,\n",
              "        2.95466814e-02, -7.42771041e-03, -8.32369971e-03,  2.62461038e-02,\n",
              "       -4.42166095e-02,  3.30142983e-02,  6.45446846e-03,  1.91453654e-02,\n",
              "       -2.75801243e-02,  3.47148097e-02, -1.07309052e-02, -5.31244170e-03,\n",
              "        1.79538141e-02,  2.57906955e-02,  1.80483749e-02,  6.67722153e-03,\n",
              "        2.20506957e-02,  4.98726179e-02,  4.65716900e-02,  4.59082245e-02,\n",
              "        3.09905752e-02,  2.45055017e-02,  1.01006184e-02,  2.33354673e-02,\n",
              "       -1.23563574e-02, -6.98857384e-03,  1.64173362e-02, -1.35397466e-02,\n",
              "        2.14891613e-02,  1.19616253e-02, -3.72712976e-02, -1.92107580e-02,\n",
              "        3.82479097e-02,  1.26973698e-02, -2.58575840e-02,  1.47184380e-02,\n",
              "       -4.25995952e-03,  9.89257351e-03,  1.61245215e-02,  4.77380168e-04,\n",
              "       -9.24568098e-03,  2.18846773e-02,  4.88898091e-02, -6.53482429e-03,\n",
              "       -4.69179740e-03, -3.89581204e-02,  3.86849479e-02, -4.05993564e-02,\n",
              "       -2.20301705e-02,  7.41217217e-03,  4.63492857e-02, -1.15754610e-02,\n",
              "       -7.07452128e-03, -1.73993189e-03, -3.85475849e-02,  2.35959818e-02,\n",
              "        3.15682654e-03, -1.45023139e-02,  1.99295151e-02, -1.04635468e-02,\n",
              "        1.29650775e-02,  7.37549352e-03,  3.46772545e-02,  3.69622454e-02,\n",
              "        2.40022731e-02, -8.94502307e-03, -2.56031965e-02,  2.96871361e-02,\n",
              "        1.53126339e-04, -3.44699859e-02, -4.99485365e-02,  3.30670637e-02,\n",
              "        3.72463543e-02,  1.14270818e-02,  3.67848317e-03, -3.64331392e-02,\n",
              "       -1.73815267e-02, -3.55314022e-02,  4.01134817e-03, -8.48594419e-03,\n",
              "        2.57249286e-02, -9.46007723e-03, -1.22324813e-02, -4.27570730e-02,\n",
              "        8.73707854e-03, -1.86301876e-02,  3.47144087e-02, -4.72374523e-02,\n",
              "        6.83454190e-03, -3.46708575e-02,  1.61650648e-02, -1.75698380e-02,\n",
              "       -3.57309286e-02, -1.12227161e-02, -4.35780579e-04,  2.53653532e-02,\n",
              "        1.76494788e-04, -2.23406406e-02,  1.90798245e-02,  7.54742361e-03,\n",
              "       -6.58195918e-03,  3.57750403e-03, -5.40299410e-02,  3.41502336e-03,\n",
              "        2.31576856e-02,  2.28606406e-02,  1.36227002e-02, -3.04396394e-02,\n",
              "        3.11414130e-02, -1.13604505e-02,  4.82924623e-02,  2.71684934e-03,\n",
              "        1.14332626e-02, -1.77921996e-02,  1.60538548e-02, -4.03852449e-02,\n",
              "       -2.80396887e-04,  3.04868296e-02,  3.01188760e-02,  1.64882693e-02,\n",
              "        5.85607519e-03, -5.82949511e-02,  3.63921788e-02, -1.79167402e-02,\n",
              "        5.39546023e-02, -8.73799869e-03, -1.15842181e-02,  6.33111198e-04,\n",
              "        2.98887835e-02, -7.32350627e-03, -2.53378841e-03, -2.30077666e-02,\n",
              "       -3.88932464e-02,  1.70663118e-02,  1.22130485e-02, -2.48718359e-03,\n",
              "       -1.75154455e-04,  1.56783375e-05])"
            ]
          },
          "metadata": {},
          "execution_count": 25
        }
      ]
    },
    {
      "cell_type": "code",
      "source": [
        "pipe.score(X, y)"
      ],
      "metadata": {
        "colab": {
          "base_uri": "https://localhost:8080/"
        },
        "id": "ZTQXm9uTK9Hq",
        "outputId": "79a82c92-5315-475f-cd2d-20540ac57318"
      },
      "execution_count": 26,
      "outputs": [
        {
          "output_type": "execute_result",
          "data": {
            "text/plain": [
              "-3.9027185459647695"
            ]
          },
          "metadata": {},
          "execution_count": 26
        }
      ]
    },
    {
      "cell_type": "code",
      "source": [
        "\n",
        "from sklearn.base import ClassifierMixin\n",
        "\n",
        "\n",
        "class MyOwnClassifier(BaseEstimator, ClassifierMixin):\n",
        "     def fit(self, X, y):\n",
        "         self.classes_ = np.unique(y)\n",
        "         return self\n",
        "     def predict(self, X):\n",
        "         return np.random.randint(0, self.classes_.size,\n",
        "                                  size=X.shape[0])\n",
        "     def predict_proba(self, X):\n",
        "         pred = np.random.rand(X.shape[0], self.classes_.size)\n",
        "         return pred / np.sum(pred, axis=1)[:, np.newaxis]"
      ],
      "metadata": {
        "id": "0a_RZtqTK9L9"
      },
      "execution_count": 28,
      "outputs": []
    },
    {
      "cell_type": "code",
      "source": [
        "X, y = load_iris(return_X_y=True)\n",
        "pipe = make_pipeline(MyOwnTransformer(), MyOwnClassifier())\n",
        "pipe.fit(X, y)\n",
        "pipe.predict(X)"
      ],
      "metadata": {
        "colab": {
          "base_uri": "https://localhost:8080/"
        },
        "id": "lIpd6iOfLx2d",
        "outputId": "61aab898-c9f5-483f-88b2-6beb6c1487d8"
      },
      "execution_count": 29,
      "outputs": [
        {
          "output_type": "execute_result",
          "data": {
            "text/plain": [
              "array([0, 1, 1, 0, 1, 2, 0, 0, 1, 2, 0, 1, 1, 0, 0, 0, 2, 2, 0, 0, 0, 2,\n",
              "       1, 2, 0, 2, 2, 0, 0, 1, 0, 1, 0, 2, 1, 0, 1, 2, 1, 1, 1, 0, 2, 2,\n",
              "       0, 2, 0, 1, 2, 1, 2, 0, 0, 1, 0, 1, 1, 0, 1, 2, 0, 0, 1, 1, 1, 1,\n",
              "       0, 1, 1, 1, 2, 2, 1, 1, 1, 2, 2, 2, 1, 2, 0, 0, 1, 2, 1, 0, 1, 1,\n",
              "       1, 2, 1, 1, 2, 0, 1, 1, 2, 2, 1, 2, 0, 2, 0, 1, 0, 2, 2, 0, 0, 1,\n",
              "       1, 0, 0, 1, 2, 0, 0, 2, 1, 2, 0, 2, 2, 1, 2, 2, 1, 1, 0, 0, 0, 1,\n",
              "       0, 1, 1, 1, 0, 2, 0, 0, 2, 0, 1, 0, 1, 0, 1, 0, 2, 0])"
            ]
          },
          "metadata": {},
          "execution_count": 29
        }
      ]
    },
    {
      "cell_type": "code",
      "source": [
        "pipe.predict_proba(X)\n",
        "\n",
        "\n"
      ],
      "metadata": {
        "colab": {
          "base_uri": "https://localhost:8080/"
        },
        "id": "4DZUiV8EMEDa",
        "outputId": "47ac4d93-116e-44c0-9e71-0b5e3f40728e"
      },
      "execution_count": 30,
      "outputs": [
        {
          "output_type": "execute_result",
          "data": {
            "text/plain": [
              "array([[0.56216082, 0.36865895, 0.06918023],\n",
              "       [0.08039793, 0.56975715, 0.34984492],\n",
              "       [0.13074438, 0.41332748, 0.45592814],\n",
              "       [0.32680284, 0.01194464, 0.66125252],\n",
              "       [0.25312819, 0.17407334, 0.57279847],\n",
              "       [0.13983434, 0.33041254, 0.52975312],\n",
              "       [0.32194582, 0.39313236, 0.28492182],\n",
              "       [0.35207682, 0.36554778, 0.2823754 ],\n",
              "       [0.32289271, 0.13860742, 0.53849987],\n",
              "       [0.45671121, 0.38043257, 0.16285621],\n",
              "       [0.47078529, 0.3486206 , 0.18059411],\n",
              "       [0.54680036, 0.00531717, 0.44788247],\n",
              "       [0.23551186, 0.52167134, 0.24281681],\n",
              "       [0.01334667, 0.27372711, 0.71292622],\n",
              "       [0.02406397, 0.26494126, 0.71099477],\n",
              "       [0.35815857, 0.34562593, 0.2962155 ],\n",
              "       [0.31394857, 0.19583057, 0.49022086],\n",
              "       [0.47049245, 0.18552603, 0.34398152],\n",
              "       [0.15884087, 0.70182414, 0.13933499],\n",
              "       [0.13528283, 0.40660191, 0.45811525],\n",
              "       [0.36889767, 0.38018002, 0.25092231],\n",
              "       [0.69583779, 0.18538379, 0.11877842],\n",
              "       [0.6215552 , 0.22575967, 0.15268513],\n",
              "       [0.4068089 , 0.56407591, 0.02911519],\n",
              "       [0.42754225, 0.15240748, 0.42005026],\n",
              "       [0.22489379, 0.35109327, 0.42401294],\n",
              "       [0.35235197, 0.34176388, 0.30588415],\n",
              "       [0.33204843, 0.37346674, 0.29448483],\n",
              "       [0.27016652, 0.64535468, 0.0844788 ],\n",
              "       [0.29595297, 0.53832129, 0.16572574],\n",
              "       [0.53756862, 0.35970035, 0.10273104],\n",
              "       [0.5500031 , 0.39335711, 0.05663979],\n",
              "       [0.46636826, 0.44397287, 0.08965888],\n",
              "       [0.25772828, 0.314699  , 0.42757272],\n",
              "       [0.42312453, 0.0872739 , 0.48960157],\n",
              "       [0.38854331, 0.10073345, 0.51072325],\n",
              "       [0.0858776 , 0.61816002, 0.29596237],\n",
              "       [0.12708132, 0.23561307, 0.63730561],\n",
              "       [0.40873522, 0.15530943, 0.43595535],\n",
              "       [0.41500226, 0.2551075 , 0.32989024],\n",
              "       [0.43867434, 0.18230263, 0.37902303],\n",
              "       [0.50792949, 0.31955522, 0.17251529],\n",
              "       [0.29813719, 0.20222354, 0.49963927],\n",
              "       [0.06640364, 0.20832106, 0.7252753 ],\n",
              "       [0.32880994, 0.64476649, 0.02642356],\n",
              "       [0.63679005, 0.26643973, 0.09677023],\n",
              "       [0.52173932, 0.18343006, 0.29483062],\n",
              "       [0.34887808, 0.37581723, 0.27530469],\n",
              "       [0.39749045, 0.40619988, 0.19630967],\n",
              "       [0.60393582, 0.18332861, 0.21273557],\n",
              "       [0.23167591, 0.51977242, 0.24855168],\n",
              "       [0.38482301, 0.10207265, 0.51310433],\n",
              "       [0.20335434, 0.63566904, 0.16097662],\n",
              "       [0.29047282, 0.49614199, 0.21338519],\n",
              "       [0.28341052, 0.16018112, 0.55640836],\n",
              "       [0.6421087 , 0.0775682 , 0.2803231 ],\n",
              "       [0.42233086, 0.07202431, 0.50564483],\n",
              "       [0.58404639, 0.22123442, 0.19471919],\n",
              "       [0.12119458, 0.447408  , 0.43139742],\n",
              "       [0.19911909, 0.35616657, 0.44471434],\n",
              "       [0.61244699, 0.19697079, 0.19058222],\n",
              "       [0.19058816, 0.07290598, 0.73650585],\n",
              "       [0.43735954, 0.14209875, 0.42054172],\n",
              "       [0.19190899, 0.33375732, 0.47433369],\n",
              "       [0.31635924, 0.20864224, 0.47499852],\n",
              "       [0.18085229, 0.37862296, 0.44052475],\n",
              "       [0.74262723, 0.17788314, 0.07948963],\n",
              "       [0.13972676, 0.50262116, 0.35765208],\n",
              "       [0.40063764, 0.15153551, 0.44782685],\n",
              "       [0.4173055 , 0.33343144, 0.24926306],\n",
              "       [0.56541053, 0.08530414, 0.34928533],\n",
              "       [0.11508661, 0.58125105, 0.30366235],\n",
              "       [0.46223328, 0.0597308 , 0.47803592],\n",
              "       [0.18263851, 0.61778514, 0.19957635],\n",
              "       [0.31450411, 0.49829464, 0.18720125],\n",
              "       [0.44800983, 0.5111765 , 0.04081367],\n",
              "       [0.65080258, 0.02560682, 0.3235906 ],\n",
              "       [0.26214869, 0.0360699 , 0.70178141],\n",
              "       [0.14467279, 0.53663498, 0.31869223],\n",
              "       [0.60551837, 0.28403767, 0.11044397],\n",
              "       [0.42035836, 0.03817294, 0.5414687 ],\n",
              "       [0.27622351, 0.62674956, 0.09702693],\n",
              "       [0.31489417, 0.09858876, 0.58651707],\n",
              "       [0.12908747, 0.4959863 , 0.37492624],\n",
              "       [0.29183583, 0.41070045, 0.29746372],\n",
              "       [0.41569266, 0.03024514, 0.55406221],\n",
              "       [0.16429802, 0.32722852, 0.50847345],\n",
              "       [0.05682618, 0.5237313 , 0.41944252],\n",
              "       [0.31111418, 0.27259681, 0.41628902],\n",
              "       [0.4224159 , 0.48368629, 0.09389781],\n",
              "       [0.23987458, 0.39730252, 0.3628229 ],\n",
              "       [0.53835799, 0.09690356, 0.36473845],\n",
              "       [0.66376867, 0.12809492, 0.2081364 ],\n",
              "       [0.15236542, 0.22712893, 0.62050564],\n",
              "       [0.08285466, 0.59472262, 0.32242272],\n",
              "       [0.14612032, 0.18373453, 0.67014515],\n",
              "       [0.10873356, 0.48763952, 0.40362692],\n",
              "       [0.41853729, 0.47971442, 0.10174829],\n",
              "       [0.46158712, 0.01469616, 0.52371672],\n",
              "       [0.31505172, 0.39960426, 0.28534402],\n",
              "       [0.47313398, 0.07667345, 0.45019256],\n",
              "       [0.12343699, 0.79033585, 0.08622716],\n",
              "       [0.44797857, 0.47850084, 0.07352059],\n",
              "       [0.52932961, 0.44142295, 0.02924743],\n",
              "       [0.43335126, 0.17106611, 0.39558263],\n",
              "       [0.79210135, 0.06896305, 0.1389356 ],\n",
              "       [0.18651213, 0.23890726, 0.5745806 ],\n",
              "       [0.3215894 , 0.61102018, 0.06739043],\n",
              "       [0.25326279, 0.29668652, 0.45005069],\n",
              "       [0.39641249, 0.24394439, 0.35964312],\n",
              "       [0.06885479, 0.42787873, 0.50326648],\n",
              "       [0.65573256, 0.06215664, 0.2821108 ],\n",
              "       [0.63580481, 0.20540156, 0.15879363],\n",
              "       [0.24007828, 0.38249881, 0.37742291],\n",
              "       [0.35697934, 0.08091957, 0.56210109],\n",
              "       [0.49153726, 0.06230202, 0.44616072],\n",
              "       [0.07383201, 0.65673587, 0.26943212],\n",
              "       [0.38982241, 0.45425003, 0.15592756],\n",
              "       [0.29221775, 0.45284488, 0.25493737],\n",
              "       [0.21579058, 0.34948339, 0.43472603],\n",
              "       [0.23647204, 0.40215845, 0.36136951],\n",
              "       [0.94337457, 0.02436697, 0.03225846],\n",
              "       [0.10108827, 0.4403962 , 0.45851553],\n",
              "       [0.1433556 , 0.46031069, 0.39633372],\n",
              "       [0.42849102, 0.17055535, 0.40095364],\n",
              "       [0.01427909, 0.39001349, 0.59570742],\n",
              "       [0.50783658, 0.12736071, 0.36480271],\n",
              "       [0.27140499, 0.5532667 , 0.17532831],\n",
              "       [0.25997697, 0.43364573, 0.3063773 ],\n",
              "       [0.14008908, 0.4334319 , 0.42647902],\n",
              "       [0.4235247 , 0.27880719, 0.29766811],\n",
              "       [0.48416266, 0.4003335 , 0.11550385],\n",
              "       [0.14540849, 0.09121617, 0.76337534],\n",
              "       [0.31315135, 0.4864238 , 0.20042484],\n",
              "       [0.02874777, 0.10540252, 0.86584971],\n",
              "       [0.42353846, 0.18931908, 0.38714246],\n",
              "       [0.00681942, 0.416876  , 0.57630459],\n",
              "       [0.20580603, 0.37231899, 0.42187498],\n",
              "       [0.41996698, 0.19435088, 0.38568213],\n",
              "       [0.0312201 , 0.11564739, 0.85313251],\n",
              "       [0.14412688, 0.29247577, 0.56339735],\n",
              "       [0.56364891, 0.32576262, 0.11058847],\n",
              "       [0.46471575, 0.13964769, 0.39563656],\n",
              "       [0.13067357, 0.19728383, 0.6720426 ],\n",
              "       [0.28163591, 0.54090635, 0.17745774],\n",
              "       [0.52061499, 0.0433951 , 0.43598991],\n",
              "       [0.15992926, 0.59460513, 0.24546561],\n",
              "       [0.20527418, 0.50108817, 0.29363765],\n",
              "       [0.17815804, 0.43388496, 0.38795701],\n",
              "       [0.45216615, 0.14816293, 0.39967092]])"
            ]
          },
          "metadata": {},
          "execution_count": 30
        }
      ]
    },
    {
      "cell_type": "code",
      "source": [
        "pipe.score(X, y)"
      ],
      "metadata": {
        "colab": {
          "base_uri": "https://localhost:8080/"
        },
        "id": "1-dPvadkMPN1",
        "outputId": "f8e8d772-baae-4d75-e392-e75a418d63d8"
      },
      "execution_count": 31,
      "outputs": [
        {
          "output_type": "execute_result",
          "data": {
            "text/plain": [
              "0.32666666666666666"
            ]
          },
          "metadata": {},
          "execution_count": 31
        }
      ]
    },
    {
      "cell_type": "code",
      "source": [],
      "metadata": {
        "id": "09c2kzJHMRf6"
      },
      "execution_count": null,
      "outputs": []
    }
  ]
}