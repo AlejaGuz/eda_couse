{
  "nbformat": 4,
  "nbformat_minor": 0,
  "metadata": {
    "colab": {
      "provenance": [],
      "authorship_tag": "ABX9TyN3kO9INTOwPdhncoXevdtk",
      "include_colab_link": true
    },
    "kernelspec": {
      "name": "python3",
      "display_name": "Python 3"
    },
    "language_info": {
      "name": "python"
    }
  },
  "cells": [
    {
      "cell_type": "markdown",
      "metadata": {
        "id": "view-in-github",
        "colab_type": "text"
      },
      "source": [
        "<a href=\"https://colab.research.google.com/github/armandoordonez/eda_couse/blob/main/Pipeline_2.ipynb\" target=\"_parent\"><img src=\"https://colab.research.google.com/assets/colab-badge.svg\" alt=\"Open In Colab\"/></a>"
      ]
    },
    {
      "cell_type": "code",
      "execution_count": 1,
      "metadata": {
        "id": "kLD0lCSKfvwC"
      },
      "outputs": [],
      "source": [
        "# Based on: https://www.askpython.com/python/examples/pipelining-in-python\n",
        "\n",
        "# Pipeline que selecciona las features y luego entrena un modelo\n",
        "\n",
        "# Modelos\n",
        "from sklearn.linear_model import LogisticRegression\n",
        "from sklearn.decomposition import PCA\n",
        "\n",
        "\n",
        "# Seleccion de features y modelos\n",
        "\n",
        "from pandas import read_csv\n",
        "\n",
        "from sklearn.feature_selection import SelectKBest\n",
        "from sklearn.model_selection import KFold\n",
        "from sklearn.model_selection import cross_val_score\n",
        "\n",
        "# Pipeline y Feature Union\n",
        "\n",
        "from sklearn.pipeline import Pipeline\n",
        "from sklearn.pipeline import FeatureUnion\n",
        "\n"
      ]
    },
    {
      "cell_type": "code",
      "source": [
        "\n",
        "# Carga de datos\n",
        "\n",
        "url_data = \"https://raw.githubusercontent.com/jbrownlee/Datasets/master/pima-indians-diabetes.data.csv\"\n",
        "\n",
        "varnames = ['var_preg', 'var_plas', 'var_pres', 'var_skin', 'var_test', 'var_mass', 'var_pedi', 'var_age', 'var_class']\n",
        "\n",
        "vardataframe = read_csv(url_data, names=varnames)\n",
        "vararray = vardataframe.values\n",
        "varX = vararray[:,0:8]\n",
        "varY = vararray[:,8]\n",
        "\n",
        "\n"
      ],
      "metadata": {
        "id": "PyRWp2B8avmJ"
      },
      "execution_count": 2,
      "outputs": []
    },
    {
      "cell_type": "code",
      "source": [
        "# Feature union\n",
        "\n",
        "urlfeatures = []\n",
        "\n",
        "urlfeatures.append(('pca', PCA(n_components=3)))\n",
        "urlfeatures.append(('select_best', SelectKBest(k=6)))\n",
        "\n",
        "feature_union = FeatureUnion(urlfeatures)\n",
        "\n",
        "print(feature_union)"
      ],
      "metadata": {
        "id": "9RfhnPe0awyL",
        "outputId": "7dd96e50-24cb-4a39-dfb2-9bb175d3ebe3",
        "colab": {
          "base_uri": "https://localhost:8080/"
        }
      },
      "execution_count": 5,
      "outputs": [
        {
          "output_type": "stream",
          "name": "stdout",
          "text": [
            "FeatureUnion(transformer_list=[('pca', PCA(n_components=3)),\n",
            "                               ('select_best', SelectKBest(k=6))])\n"
          ]
        }
      ]
    },
    {
      "cell_type": "code",
      "source": [
        "\n",
        "# Crear el Pipeline incluyendo la regresión logística\n",
        "\n",
        "estimators = []\n",
        "estimators.append(('feature_union', feature_union))\n",
        "estimators.append(('logistic', LogisticRegression(max_iter=1000)))\n",
        "\n",
        "model = Pipeline(estimators)\n",
        "\n",
        ""
      ],
      "metadata": {
        "id": "Bl2T4lYogT1M"
      },
      "execution_count": 6,
      "outputs": []
    },
    {
      "cell_type": "code",
      "source": [
        "\n",
        "# Prueba del pipeline\n",
        "seed = 7\n",
        "varkfold = KFold(n_splits=10)\n",
        "dataresults = cross_val_score(model, varX, varY, cv=varkfold)\n",
        "print(dataresults.mean())"
      ],
      "metadata": {
        "id": "RPopV-5JbPZ5",
        "outputId": "8ca7c250-21b6-469c-aa16-7f1eea59903d",
        "colab": {
          "base_uri": "https://localhost:8080/"
        }
      },
      "execution_count": 7,
      "outputs": [
        {
          "output_type": "stream",
          "name": "stdout",
          "text": [
            "0.7760423786739576\n"
          ]
        }
      ]
    },
    {
      "cell_type": "code",
      "source": [],
      "metadata": {
        "id": "FiMDb6xBbRKT"
      },
      "execution_count": null,
      "outputs": []
    }
  ]
}