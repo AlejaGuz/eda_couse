{
  "nbformat": 4,
  "nbformat_minor": 0,
  "metadata": {
    "colab": {
      "provenance": [],
      "authorship_tag": "ABX9TyOrWT7xE1hEq55zL/mhNIUw",
      "include_colab_link": true
    },
    "kernelspec": {
      "name": "python3",
      "display_name": "Python 3"
    },
    "language_info": {
      "name": "python"
    }
  },
  "cells": [
    {
      "cell_type": "markdown",
      "metadata": {
        "id": "view-in-github",
        "colab_type": "text"
      },
      "source": [
        "<a href=\"https://colab.research.google.com/github/armandoordonez/eda_couse/blob/main/Label_encoding.ipynb\" target=\"_parent\"><img src=\"https://colab.research.google.com/assets/colab-badge.svg\" alt=\"Open In Colab\"/></a>"
      ]
    },
    {
      "cell_type": "code",
      "execution_count": null,
      "metadata": {
        "id": "oGvX3ibBZz2u"
      },
      "outputs": [],
      "source": [
        "# based on: https://www.statology.org/label-encoding-in-python/\n",
        "\n",
        "from sklearn.preprocessing import LabelEncoder\n",
        "import pandas as pd\n",
        "\n",
        "#create instance of label encoder\n",
        "lab = LabelEncoder()\n",
        "\n",
        "#create DataFrame\n",
        "df = pd.DataFrame({'team': ['A', 'A', 'B', 'B', 'B', 'B', 'C', 'C'],\n",
        "                   'points': [25, 12, 15, 14, 19, 23, 25, 29]})\n",
        "\n",
        "#view DataFrame\n",
        "print(df)\n",
        "\n",
        "\n"
      ]
    },
    {
      "cell_type": "code",
      "source": [
        "df['team'] = lab.fit_transform(df['team'])\n",
        "\n",
        "#view updated DataFrame\n",
        "print(df)\n"
      ],
      "metadata": {
        "id": "3JbIykrKZ3VF"
      },
      "execution_count": null,
      "outputs": []
    },
    {
      "cell_type": "markdown",
      "source": [
        "* Each “A” value has been converted to 0.\n",
        "\n",
        "* Each “B” value has been converted to 1.\n",
        "\n",
        "* Each “C” value has been converted to 2."
      ],
      "metadata": {
        "id": "QRrxuNe0aSYN"
      }
    },
    {
      "cell_type": "code",
      "source": [
        "lab.inverse_transform(df['team'])\n",
        "\n"
      ],
      "metadata": {
        "id": "Qau8WtnhaMpk"
      },
      "execution_count": null,
      "outputs": []
    },
    {
      "cell_type": "code",
      "source": [],
      "metadata": {
        "id": "VALya_UxdhYt"
      },
      "execution_count": null,
      "outputs": []
    }
  ]
}